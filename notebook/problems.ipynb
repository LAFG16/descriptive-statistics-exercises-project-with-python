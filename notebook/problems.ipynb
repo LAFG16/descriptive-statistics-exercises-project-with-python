{
    "cells": [
        {
            "cell_type": "markdown",
            "id": "ac622319",
            "metadata": {},
            "source": [
                "# Descriptive statistics problems"
            ]
        },
        {
            "cell_type": "markdown",
            "id": "aa8993e4",
            "metadata": {},
            "source": [
                "### Exercise 1"
            ]
        },
        {
            "cell_type": "markdown",
            "id": "5e0ab0d5",
            "metadata": {},
            "source": [
                "We will use Numpy to obtain information to describe statistically.\n",
                "\n",
                "- Generate an array of 100 elements following a normal distribution.\n",
                "- Generate an array of 100 elements following a chi-square distribution with 3 degrees of freedom.\n",
                "- Calculate the main metrics and statistical measures that best describe the two vectors."
            ]
        },
        {
            "cell_type": "code",
            "execution_count": 11,
            "id": "34720ab6",
            "metadata": {},
            "outputs": [
                {
                    "name": "stdout",
                    "output_type": "stream",
                    "text": [
                        "Mean: \n",
                        "array1 = 0.5504195741621007\n",
                        "array2 = 3.086959091621217\n",
                        "Median: \n",
                        "array1 = 0.566419376502121\n",
                        "array2 = 2.352550788331677\n",
                        "Mode: \n",
                        "array1 = 0.9600173033359185\n",
                        "array2 = 2.029124937689087\n",
                        "range: \n",
                        "array1 = 0.997844020029821\n",
                        "array2 = 10.947817370656654\n",
                        "Standar Desviation: \n",
                        "array1 = 0.2904030334921922\n",
                        "array2 = 2.56640243461804\n",
                        "Variance: \n",
                        "array1 = 0.08433392186146732\n",
                        "array2 = 6.586421456413402\n",
                        "Skewness: \n",
                        "array1= skew(array1)\n",
                        "array2 = 1.3570809154180505\n",
                        "Kurtosis: \n",
                        "array1 = -1.166357955884018\n",
                        "array2 = 1.1988122742867802\n"
                    ]
                }
            ],
            "source": [
                "# TODO\n",
                "import numpy as np\n",
                "import statistics as stats\n",
                "from scipy.stats import skew, kurtosis\n",
                "\n",
                "np.random.seed(24)\n",
                "\n",
                "array1 = np.random.rand(100)\n",
                "\n",
                "array2 = np.random.chisquare(3, 100)\n",
                "\n",
                "print(\"Mean: \")\n",
                "print(f'array1 = {stats.mean(array1)}')\n",
                "print(f'array2 = {stats.mean(array2)}')\n",
                "\n",
                "print(\"Median: \")\n",
                "print(f'array1 = {stats.median(array1)}')\n",
                "print(f'array2 = {stats.median(array2)}')\n",
                "\n",
                "print(\"Mode: \")\n",
                "print(f'array1 = {stats.mode(array1)}')\n",
                "print(f'array2 = {stats.mode(array2)}')\n",
                "\n",
                "print(\"range: \")\n",
                "range1 = max(array1) - min(array1)\n",
                "range2 = max(array2) - min(array2)\n",
                "print(f'array1 = {range1}')\n",
                "print(f'array2 = {range2}')\n",
                "\n",
                "print(\"Standar Desviation: \")\n",
                "print(f'array1 = {stats.stdev(array1)}')\n",
                "print(f'array2 = {stats.stdev(array2)}')\n",
                "\n",
                "print(\"Variance: \")\n",
                "print(f'array1 = {stats.variance(array1)}')\n",
                "print(f'array2 = {stats.variance(array2)}')\n",
                "\n",
                "print(\"Skewness: \")\n",
                "print(f'array1= skew(array1)')\n",
                "print(f'array2 = {skew(array2)}')\n",
                "\n",
                "print(\"Kurtosis: \")\n",
                "print(f'array1 = {kurtosis(array1)}')\n",
                "print(f'array2 = {kurtosis(array2)}')\n"
            ]
        },
        {
            "cell_type": "markdown",
            "id": "46c70c3d",
            "metadata": {},
            "source": [
                "### Exercise 2\n",
                "\n",
                "Write a Python program to calculate the standard deviation of the following data:\n",
                "\n",
                "```py\n",
                "data = [4, 2, 5, 8, 6]\n",
                "```"
            ]
        },
        {
            "cell_type": "code",
            "execution_count": 1,
            "id": "d590308e",
            "metadata": {},
            "outputs": [
                {
                    "data": {
                        "text/plain": [
                            "2.0"
                        ]
                    },
                    "execution_count": 1,
                    "metadata": {},
                    "output_type": "execute_result"
                }
            ],
            "source": [
                "# TODO\n",
                "import statistics as stats\n",
                "data = [4, 2, 5, 8, 6]\n",
                "\n",
                "def standard_deviation(list):\n",
                "    mean = sum(list)/(len(list))\n",
                "    n = len(list)\n",
                "    total = (sum((x-mean)**2 for x in list)/(n))**0.5\n",
                "    return total\n",
                "\n",
                "standard_deviation(data)\n"
            ]
        }
    ],
    "metadata": {
        "interpreter": {
            "hash": "9248718ffe6ce6938b217e69dbcc175ea21f4c6b28a317e96c05334edae734bb"
        },
        "kernelspec": {
            "display_name": "Python 3.9.12 ('ML-BOOTCAMP')",
            "language": "python",
            "name": "python3"
        },
        "language_info": {
            "codemirror_mode": {
                "name": "ipython",
                "version": 3
            },
            "file_extension": ".py",
            "mimetype": "text/x-python",
            "name": "python",
            "nbconvert_exporter": "python",
            "pygments_lexer": "ipython3",
            "version": "3.11.4"
        }
    },
    "nbformat": 4,
    "nbformat_minor": 5
}
